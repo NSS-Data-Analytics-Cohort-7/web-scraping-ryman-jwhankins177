{
 "cells": [
  {
   "cell_type": "code",
   "execution_count": 1,
   "id": "0c307a9d",
   "metadata": {},
   "outputs": [],
   "source": [
    "import requests\n",
    "from bs4 import BeautifulSoup as bs\n",
    "from IPython.core.display import HTML\n",
    "import pandas as pd\n",
    "\n",
    "URL = 'https://ryman.com/events/'\n",
    "response = requests.get(URL)\n",
    "\n",
    "soup = bs(response.text)\n"
   ]
  },
  {
   "cell_type": "markdown",
   "id": "15a9e3f1",
   "metadata": {},
   "source": [
    "Get list of artists."
   ]
  },
  {
   "cell_type": "code",
   "execution_count": 2,
   "id": "4305d164",
   "metadata": {},
   "outputs": [
    {
     "data": {
      "text/plain": [
       "['Mt. Joy',\n",
       " 'Ryman Sidewalk Sessions',\n",
       " 'Marcus Mumford',\n",
       " 'Puscifer',\n",
       " 'Gipsy Kings featuring Nicolas Reyes',\n",
       " 'Ryman Sidewalk Sessions',\n",
       " 'Cole Swindell',\n",
       " 'Ryman Sidewalk Sessions',\n",
       " 'Cole Swindell',\n",
       " 'The Lone Bellow',\n",
       " 'We The Kingdom',\n",
       " 'The Revivalists',\n",
       " 'The Revivalists',\n",
       " 'Dayglow',\n",
       " 'Bono: Stories of Surrender',\n",
       " 'Chris Renzema',\n",
       " 'Craig Morgan',\n",
       " 'Louder with Crowder',\n",
       " 'Louder with Crowder',\n",
       " 'Disney Junior Live On Tour']"
      ]
     },
     "execution_count": 2,
     "metadata": {},
     "output_type": "execute_result"
    }
   ],
   "source": [
    "h3 = soup.find_all('a', attrs={'class': 'tribe-event-url'})\n",
    "artists=[]\n",
    "for x in h3:\n",
    "    y = x.text.strip()\n",
    "    artists.append(y)\n",
    "artists"
   ]
  },
  {
   "cell_type": "markdown",
   "id": "202cca1c",
   "metadata": {},
   "source": [
    "Get full date/time data."
   ]
  },
  {
   "cell_type": "code",
   "execution_count": 3,
   "id": "5967b533",
   "metadata": {},
   "outputs": [
    {
     "data": {
      "text/plain": [
       "['Saturday, October 29, 2022 at 8:00 PM CDT',\n",
       " 'Sunday, October 30, 2022 at 6:00 PM CDT',\n",
       " 'Sunday, October 30, 2022 at 8:00 PM CDT',\n",
       " 'Monday, October 31, 2022 at 7:30 PM CDT',\n",
       " 'Tuesday, November 1, 2022 at 7:30 PM CDT',\n",
       " 'Wednesday, November 2, 2022 at 5:30 PM CDT',\n",
       " 'Wednesday, November 2, 2022 at 7:30 PM CDT',\n",
       " 'Thursday, November 3, 2022 at 5:30 PM CDT',\n",
       " 'Thursday, November 3, 2022 at 7:30 PM CDT',\n",
       " 'Friday, November 4, 2022 at 8:00 PM CDT',\n",
       " 'Saturday, November 5, 2022 at 7:00 PM CDT',\n",
       " 'Sunday, November 6, 2022 at 7:30 PM CST',\n",
       " 'Monday, November 7, 2022 at 7:30 PM CST',\n",
       " 'Tuesday, November 8, 2022 at 7:30 PM CST',\n",
       " 'Wednesday, November 9, 2022 at 8:00 PM CST',\n",
       " 'Thursday, November 10, 2022 at 7:30 PM CST',\n",
       " 'Friday, November 11, 2022 at 8:00 PM CST',\n",
       " 'Saturday, November 12, 2022 at 7:00 PM CST',\n",
       " 'Saturday, November 12, 2022 at 9:30 PM CST',\n",
       " 'Sunday, November 13, 2022 at 4:00 PM CST']"
      ]
     },
     "execution_count": 3,
     "metadata": {},
     "output_type": "execute_result"
    }
   ],
   "source": [
    "h4 = soup.find_all('time')\n",
    "datetime=[]\n",
    "z = 1\n",
    "for x in h4:\n",
    "    y = x.text.strip()\n",
    "    datetime.append(y)\n",
    "    z =+ 1\n",
    "datetime"
   ]
  },
  {
   "cell_type": "markdown",
   "id": "0ed1bdab",
   "metadata": {},
   "source": [
    "Clean up and seperate date and time. "
   ]
  },
  {
   "cell_type": "code",
   "execution_count": 4,
   "id": "8688cef0",
   "metadata": {},
   "outputs": [],
   "source": [
    "date1 = [x.split(', ',1)[-1] for x in datetime]"
   ]
  },
  {
   "cell_type": "code",
   "execution_count": 5,
   "id": "8683cddb",
   "metadata": {},
   "outputs": [],
   "source": [
    "date = [x.split(' at ',1)[0] for x in date1]"
   ]
  },
  {
   "cell_type": "code",
   "execution_count": 6,
   "id": "e6127bfe",
   "metadata": {},
   "outputs": [
    {
     "data": {
      "text/plain": [
       "['October 29, 2022',\n",
       " 'October 30, 2022',\n",
       " 'October 30, 2022',\n",
       " 'October 31, 2022',\n",
       " 'November 1, 2022',\n",
       " 'November 2, 2022',\n",
       " 'November 2, 2022',\n",
       " 'November 3, 2022',\n",
       " 'November 3, 2022',\n",
       " 'November 4, 2022',\n",
       " 'November 5, 2022',\n",
       " 'November 6, 2022',\n",
       " 'November 7, 2022',\n",
       " 'November 8, 2022',\n",
       " 'November 9, 2022',\n",
       " 'November 10, 2022',\n",
       " 'November 11, 2022',\n",
       " 'November 12, 2022',\n",
       " 'November 12, 2022',\n",
       " 'November 13, 2022']"
      ]
     },
     "execution_count": 6,
     "metadata": {},
     "output_type": "execute_result"
    }
   ],
   "source": [
    "date"
   ]
  },
  {
   "cell_type": "code",
   "execution_count": 7,
   "id": "824080b8",
   "metadata": {},
   "outputs": [],
   "source": [
    "time = [x.split(' at ',1)[-1] for x in datetime]"
   ]
  },
  {
   "cell_type": "code",
   "execution_count": 8,
   "id": "cb69ea55",
   "metadata": {},
   "outputs": [
    {
     "data": {
      "text/plain": [
       "['8:00 PM CDT',\n",
       " '6:00 PM CDT',\n",
       " '8:00 PM CDT',\n",
       " '7:30 PM CDT',\n",
       " '7:30 PM CDT',\n",
       " '5:30 PM CDT',\n",
       " '7:30 PM CDT',\n",
       " '5:30 PM CDT',\n",
       " '7:30 PM CDT',\n",
       " '8:00 PM CDT',\n",
       " '7:00 PM CDT',\n",
       " '7:30 PM CST',\n",
       " '7:30 PM CST',\n",
       " '7:30 PM CST',\n",
       " '8:00 PM CST',\n",
       " '7:30 PM CST',\n",
       " '8:00 PM CST',\n",
       " '7:00 PM CST',\n",
       " '9:30 PM CST',\n",
       " '4:00 PM CST']"
      ]
     },
     "execution_count": 8,
     "metadata": {},
     "output_type": "execute_result"
    }
   ],
   "source": [
    "time"
   ]
  },
  {
   "cell_type": "markdown",
   "id": "93762827",
   "metadata": {},
   "source": [
    "Turn three lists into DataFrames."
   ]
  },
  {
   "cell_type": "code",
   "execution_count": 9,
   "id": "df42a030",
   "metadata": {},
   "outputs": [],
   "source": [
    "artist1 = pd.DataFrame(artists)\n",
    "date1 = pd.DataFrame(date)\n",
    "time1 = pd.DataFrame(time)"
   ]
  },
  {
   "cell_type": "markdown",
   "id": "73eeb392",
   "metadata": {},
   "source": [
    "Combine three DF's and clean."
   ]
  },
  {
   "cell_type": "code",
   "execution_count": 10,
   "id": "dc8c095c",
   "metadata": {
    "scrolled": true
   },
   "outputs": [],
   "source": [
    "schedule = pd.concat([artist1,date1,time1], axis=1)"
   ]
  },
  {
   "cell_type": "code",
   "execution_count": 11,
   "id": "45a88800",
   "metadata": {},
   "outputs": [],
   "source": [
    "schedule.columns = ['artist','date','time']"
   ]
  },
  {
   "cell_type": "code",
   "execution_count": 12,
   "id": "73c6f87d",
   "metadata": {},
   "outputs": [],
   "source": [
    "schedulepg1 = schedule[:20]"
   ]
  },
  {
   "cell_type": "markdown",
   "id": "157426ef",
   "metadata": {},
   "source": [
    "Final page one schedule."
   ]
  },
  {
   "cell_type": "code",
   "execution_count": 13,
   "id": "ce1d3c5e",
   "metadata": {},
   "outputs": [
    {
     "data": {
      "text/html": [
       "<div>\n",
       "<style scoped>\n",
       "    .dataframe tbody tr th:only-of-type {\n",
       "        vertical-align: middle;\n",
       "    }\n",
       "\n",
       "    .dataframe tbody tr th {\n",
       "        vertical-align: top;\n",
       "    }\n",
       "\n",
       "    .dataframe thead th {\n",
       "        text-align: right;\n",
       "    }\n",
       "</style>\n",
       "<table border=\"1\" class=\"dataframe\">\n",
       "  <thead>\n",
       "    <tr style=\"text-align: right;\">\n",
       "      <th></th>\n",
       "      <th>artist</th>\n",
       "      <th>date</th>\n",
       "      <th>time</th>\n",
       "    </tr>\n",
       "  </thead>\n",
       "  <tbody>\n",
       "    <tr>\n",
       "      <th>0</th>\n",
       "      <td>Mt. Joy</td>\n",
       "      <td>October 29, 2022</td>\n",
       "      <td>8:00 PM CDT</td>\n",
       "    </tr>\n",
       "    <tr>\n",
       "      <th>1</th>\n",
       "      <td>Ryman Sidewalk Sessions</td>\n",
       "      <td>October 30, 2022</td>\n",
       "      <td>6:00 PM CDT</td>\n",
       "    </tr>\n",
       "    <tr>\n",
       "      <th>2</th>\n",
       "      <td>Marcus Mumford</td>\n",
       "      <td>October 30, 2022</td>\n",
       "      <td>8:00 PM CDT</td>\n",
       "    </tr>\n",
       "    <tr>\n",
       "      <th>3</th>\n",
       "      <td>Puscifer</td>\n",
       "      <td>October 31, 2022</td>\n",
       "      <td>7:30 PM CDT</td>\n",
       "    </tr>\n",
       "    <tr>\n",
       "      <th>4</th>\n",
       "      <td>Gipsy Kings featuring Nicolas Reyes</td>\n",
       "      <td>November 1, 2022</td>\n",
       "      <td>7:30 PM CDT</td>\n",
       "    </tr>\n",
       "    <tr>\n",
       "      <th>5</th>\n",
       "      <td>Ryman Sidewalk Sessions</td>\n",
       "      <td>November 2, 2022</td>\n",
       "      <td>5:30 PM CDT</td>\n",
       "    </tr>\n",
       "    <tr>\n",
       "      <th>6</th>\n",
       "      <td>Cole Swindell</td>\n",
       "      <td>November 2, 2022</td>\n",
       "      <td>7:30 PM CDT</td>\n",
       "    </tr>\n",
       "    <tr>\n",
       "      <th>7</th>\n",
       "      <td>Ryman Sidewalk Sessions</td>\n",
       "      <td>November 3, 2022</td>\n",
       "      <td>5:30 PM CDT</td>\n",
       "    </tr>\n",
       "    <tr>\n",
       "      <th>8</th>\n",
       "      <td>Cole Swindell</td>\n",
       "      <td>November 3, 2022</td>\n",
       "      <td>7:30 PM CDT</td>\n",
       "    </tr>\n",
       "    <tr>\n",
       "      <th>9</th>\n",
       "      <td>The Lone Bellow</td>\n",
       "      <td>November 4, 2022</td>\n",
       "      <td>8:00 PM CDT</td>\n",
       "    </tr>\n",
       "    <tr>\n",
       "      <th>10</th>\n",
       "      <td>We The Kingdom</td>\n",
       "      <td>November 5, 2022</td>\n",
       "      <td>7:00 PM CDT</td>\n",
       "    </tr>\n",
       "    <tr>\n",
       "      <th>11</th>\n",
       "      <td>The Revivalists</td>\n",
       "      <td>November 6, 2022</td>\n",
       "      <td>7:30 PM CST</td>\n",
       "    </tr>\n",
       "    <tr>\n",
       "      <th>12</th>\n",
       "      <td>The Revivalists</td>\n",
       "      <td>November 7, 2022</td>\n",
       "      <td>7:30 PM CST</td>\n",
       "    </tr>\n",
       "    <tr>\n",
       "      <th>13</th>\n",
       "      <td>Dayglow</td>\n",
       "      <td>November 8, 2022</td>\n",
       "      <td>7:30 PM CST</td>\n",
       "    </tr>\n",
       "    <tr>\n",
       "      <th>14</th>\n",
       "      <td>Bono: Stories of Surrender</td>\n",
       "      <td>November 9, 2022</td>\n",
       "      <td>8:00 PM CST</td>\n",
       "    </tr>\n",
       "    <tr>\n",
       "      <th>15</th>\n",
       "      <td>Chris Renzema</td>\n",
       "      <td>November 10, 2022</td>\n",
       "      <td>7:30 PM CST</td>\n",
       "    </tr>\n",
       "    <tr>\n",
       "      <th>16</th>\n",
       "      <td>Craig Morgan</td>\n",
       "      <td>November 11, 2022</td>\n",
       "      <td>8:00 PM CST</td>\n",
       "    </tr>\n",
       "    <tr>\n",
       "      <th>17</th>\n",
       "      <td>Louder with Crowder</td>\n",
       "      <td>November 12, 2022</td>\n",
       "      <td>7:00 PM CST</td>\n",
       "    </tr>\n",
       "    <tr>\n",
       "      <th>18</th>\n",
       "      <td>Louder with Crowder</td>\n",
       "      <td>November 12, 2022</td>\n",
       "      <td>9:30 PM CST</td>\n",
       "    </tr>\n",
       "    <tr>\n",
       "      <th>19</th>\n",
       "      <td>Disney Junior Live On Tour</td>\n",
       "      <td>November 13, 2022</td>\n",
       "      <td>4:00 PM CST</td>\n",
       "    </tr>\n",
       "  </tbody>\n",
       "</table>\n",
       "</div>"
      ],
      "text/plain": [
       "                                 artist               date         time\n",
       "0                               Mt. Joy   October 29, 2022  8:00 PM CDT\n",
       "1               Ryman Sidewalk Sessions   October 30, 2022  6:00 PM CDT\n",
       "2                        Marcus Mumford   October 30, 2022  8:00 PM CDT\n",
       "3                              Puscifer   October 31, 2022  7:30 PM CDT\n",
       "4   Gipsy Kings featuring Nicolas Reyes   November 1, 2022  7:30 PM CDT\n",
       "5               Ryman Sidewalk Sessions   November 2, 2022  5:30 PM CDT\n",
       "6                         Cole Swindell   November 2, 2022  7:30 PM CDT\n",
       "7               Ryman Sidewalk Sessions   November 3, 2022  5:30 PM CDT\n",
       "8                         Cole Swindell   November 3, 2022  7:30 PM CDT\n",
       "9                       The Lone Bellow   November 4, 2022  8:00 PM CDT\n",
       "10                       We The Kingdom   November 5, 2022  7:00 PM CDT\n",
       "11                      The Revivalists   November 6, 2022  7:30 PM CST\n",
       "12                      The Revivalists   November 7, 2022  7:30 PM CST\n",
       "13                              Dayglow   November 8, 2022  7:30 PM CST\n",
       "14           Bono: Stories of Surrender   November 9, 2022  8:00 PM CST\n",
       "15                        Chris Renzema  November 10, 2022  7:30 PM CST\n",
       "16                         Craig Morgan  November 11, 2022  8:00 PM CST\n",
       "17                  Louder with Crowder  November 12, 2022  7:00 PM CST\n",
       "18                  Louder with Crowder  November 12, 2022  9:30 PM CST\n",
       "19           Disney Junior Live On Tour  November 13, 2022  4:00 PM CST"
      ]
     },
     "execution_count": 13,
     "metadata": {},
     "output_type": "execute_result"
    }
   ],
   "source": [
    "schedulepg1"
   ]
  }
 ],
 "metadata": {
  "kernelspec": {
   "display_name": "Python 3 (ipykernel)",
   "language": "python",
   "name": "python3"
  },
  "language_info": {
   "codemirror_mode": {
    "name": "ipython",
    "version": 3
   },
   "file_extension": ".py",
   "mimetype": "text/x-python",
   "name": "python",
   "nbconvert_exporter": "python",
   "pygments_lexer": "ipython3",
   "version": "3.9.7"
  }
 },
 "nbformat": 4,
 "nbformat_minor": 5
}
