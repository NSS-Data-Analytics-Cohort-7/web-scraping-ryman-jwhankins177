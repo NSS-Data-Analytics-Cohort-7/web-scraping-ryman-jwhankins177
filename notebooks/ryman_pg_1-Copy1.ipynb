{
 "cells": [
  {
   "cell_type": "code",
   "execution_count": 1,
   "id": "0c307a9d",
   "metadata": {},
   "outputs": [],
   "source": [
    "import requests\n",
    "from bs4 import BeautifulSoup as bs\n",
    "from IPython.core.display import HTML\n",
    "import pandas as pd\n",
    "\n",
    "URL = 'https://ryman.com/events/list/?tribe_event_display=list&tribe_paged=2'\n",
    "response = requests.get(URL)\n",
    "\n",
    "soup = bs(response.text)\n"
   ]
  },
  {
   "cell_type": "markdown",
   "id": "15a9e3f1",
   "metadata": {},
   "source": [
    "Get list of artists."
   ]
  },
  {
   "cell_type": "code",
   "execution_count": 2,
   "id": "4305d164",
   "metadata": {},
   "outputs": [
    {
     "data": {
      "text/plain": [
       "['Lynyrd Skynyrd',\n",
       " 'Charley Crockett',\n",
       " 'Tauren Wells',\n",
       " 'Sometimes Y',\n",
       " 'Trombone Shorty & Orleans Avenue',\n",
       " 'Dropkick Murphys',\n",
       " 'No Small Endeavor',\n",
       " 'Opry NextStage Live In Concert',\n",
       " 'Christmas 4 Kids',\n",
       " 'Omar Apollo',\n",
       " 'W.A.S.P.',\n",
       " 'Brett Eldredge',\n",
       " 'Brett Eldredge',\n",
       " 'Brett Eldredge',\n",
       " 'Natalie Grant & Danny Gokey',\n",
       " 'A Day To Remember',\n",
       " 'The Piano Guys',\n",
       " 'Jason Bonham’s Led Zeppelin Evening',\n",
       " 'The Mavericks',\n",
       " 'The Mavericks']"
      ]
     },
     "execution_count": 2,
     "metadata": {},
     "output_type": "execute_result"
    }
   ],
   "source": [
    "h3 = soup.find_all('a', attrs={'class': 'tribe-event-url'})\n",
    "artists=[]\n",
    "for x in h3:\n",
    "    y = x.text.strip()\n",
    "    artists.append(y)\n",
    "artists"
   ]
  },
  {
   "cell_type": "markdown",
   "id": "202cca1c",
   "metadata": {},
   "source": [
    "Get full date/time data."
   ]
  },
  {
   "cell_type": "code",
   "execution_count": 3,
   "id": "5967b533",
   "metadata": {},
   "outputs": [
    {
     "data": {
      "text/plain": [
       "['Sunday, November 13, 2022 at 7:30 PM CST',\n",
       " 'Monday, November 14, 2022 at 7:30 PM CST',\n",
       " 'Tuesday, November 15, 2022 at 7:30 PM CST',\n",
       " 'Thursday, November 17, 2022 at 7:30 PM CST',\n",
       " 'Friday, November 18, 2022 at 8:00 PM CST',\n",
       " 'Saturday, November 19, 2022 at 7:30 PM CST',\n",
       " 'Sunday, November 20, 2022 at 7:30 PM CST',\n",
       " 'Sunday, November 20, 2022 at 7:30 PM CST',\n",
       " 'Monday, November 21, 2022 at 7:00 PM CST',\n",
       " 'Tuesday, November 22, 2022 at 7:30 PM CST',\n",
       " 'Wednesday, November 23, 2022 at 7:30 PM CST',\n",
       " 'Friday, November 25, 2022 at 8:00 PM CST',\n",
       " 'Saturday, November 26, 2022 at 8:00 PM CST',\n",
       " 'Sunday, November 27, 2022 at 8:00 PM CST',\n",
       " 'Monday, November 28, 2022 at 7:30 PM CST',\n",
       " 'Tuesday, November 29, 2022 at 8:00 PM CST',\n",
       " 'Wednesday, November 30, 2022 at 7:30 PM CST',\n",
       " 'Wednesday, November 30, 2022 at 8:00 PM CST',\n",
       " 'Thursday, December 1, 2022 at 8:00 PM CST',\n",
       " 'Friday, December 2, 2022 at 8:00 PM CST']"
      ]
     },
     "execution_count": 3,
     "metadata": {},
     "output_type": "execute_result"
    }
   ],
   "source": [
    "h4 = soup.find_all('time')\n",
    "datetime=[]\n",
    "z = 1\n",
    "for x in h4:\n",
    "    y = x.text.strip()\n",
    "    datetime.append(y)\n",
    "    z =+ 1\n",
    "datetime"
   ]
  },
  {
   "cell_type": "markdown",
   "id": "0ed1bdab",
   "metadata": {},
   "source": [
    "Clean up and seperate date and time. "
   ]
  },
  {
   "cell_type": "code",
   "execution_count": 4,
   "id": "8688cef0",
   "metadata": {},
   "outputs": [],
   "source": [
    "date1 = [x.split(', ',1)[-1] for x in datetime]"
   ]
  },
  {
   "cell_type": "code",
   "execution_count": 5,
   "id": "8683cddb",
   "metadata": {},
   "outputs": [],
   "source": [
    "date = [x.split(' at ',1)[0] for x in date1]"
   ]
  },
  {
   "cell_type": "code",
   "execution_count": 6,
   "id": "e6127bfe",
   "metadata": {},
   "outputs": [
    {
     "data": {
      "text/plain": [
       "['November 13, 2022',\n",
       " 'November 14, 2022',\n",
       " 'November 15, 2022',\n",
       " 'November 17, 2022',\n",
       " 'November 18, 2022',\n",
       " 'November 19, 2022',\n",
       " 'November 20, 2022',\n",
       " 'November 20, 2022',\n",
       " 'November 21, 2022',\n",
       " 'November 22, 2022',\n",
       " 'November 23, 2022',\n",
       " 'November 25, 2022',\n",
       " 'November 26, 2022',\n",
       " 'November 27, 2022',\n",
       " 'November 28, 2022',\n",
       " 'November 29, 2022',\n",
       " 'November 30, 2022',\n",
       " 'November 30, 2022',\n",
       " 'December 1, 2022',\n",
       " 'December 2, 2022']"
      ]
     },
     "execution_count": 6,
     "metadata": {},
     "output_type": "execute_result"
    }
   ],
   "source": [
    "date"
   ]
  },
  {
   "cell_type": "code",
   "execution_count": 7,
   "id": "824080b8",
   "metadata": {},
   "outputs": [],
   "source": [
    "time = [x.split(' at ',1)[-1] for x in datetime]"
   ]
  },
  {
   "cell_type": "code",
   "execution_count": 8,
   "id": "cb69ea55",
   "metadata": {},
   "outputs": [
    {
     "data": {
      "text/plain": [
       "['7:30 PM CST',\n",
       " '7:30 PM CST',\n",
       " '7:30 PM CST',\n",
       " '7:30 PM CST',\n",
       " '8:00 PM CST',\n",
       " '7:30 PM CST',\n",
       " '7:30 PM CST',\n",
       " '7:30 PM CST',\n",
       " '7:00 PM CST',\n",
       " '7:30 PM CST',\n",
       " '7:30 PM CST',\n",
       " '8:00 PM CST',\n",
       " '8:00 PM CST',\n",
       " '8:00 PM CST',\n",
       " '7:30 PM CST',\n",
       " '8:00 PM CST',\n",
       " '7:30 PM CST',\n",
       " '8:00 PM CST',\n",
       " '8:00 PM CST',\n",
       " '8:00 PM CST']"
      ]
     },
     "execution_count": 8,
     "metadata": {},
     "output_type": "execute_result"
    }
   ],
   "source": [
    "time"
   ]
  },
  {
   "cell_type": "markdown",
   "id": "93762827",
   "metadata": {},
   "source": [
    "Turn three lists into DataFrames."
   ]
  },
  {
   "cell_type": "code",
   "execution_count": 9,
   "id": "df42a030",
   "metadata": {},
   "outputs": [],
   "source": [
    "artist1 = pd.DataFrame(artists)\n",
    "date1 = pd.DataFrame(date)\n",
    "time1 = pd.DataFrame(time)"
   ]
  },
  {
   "cell_type": "markdown",
   "id": "73eeb392",
   "metadata": {},
   "source": [
    "Combine three DF's and clean."
   ]
  },
  {
   "cell_type": "code",
   "execution_count": 10,
   "id": "dc8c095c",
   "metadata": {
    "scrolled": true
   },
   "outputs": [],
   "source": [
    "schedule = pd.concat([artist1,date1,time1], axis=1)"
   ]
  },
  {
   "cell_type": "code",
   "execution_count": 11,
   "id": "45a88800",
   "metadata": {},
   "outputs": [],
   "source": [
    "schedule.columns = ['artist','date','time']"
   ]
  },
  {
   "cell_type": "code",
   "execution_count": 12,
   "id": "73c6f87d",
   "metadata": {},
   "outputs": [],
   "source": [
    "schedulepg1 = schedule[:20]"
   ]
  },
  {
   "cell_type": "markdown",
   "id": "157426ef",
   "metadata": {},
   "source": [
    "Final page one schedule."
   ]
  },
  {
   "cell_type": "code",
   "execution_count": 13,
   "id": "ce1d3c5e",
   "metadata": {},
   "outputs": [
    {
     "data": {
      "text/html": [
       "<div>\n",
       "<style scoped>\n",
       "    .dataframe tbody tr th:only-of-type {\n",
       "        vertical-align: middle;\n",
       "    }\n",
       "\n",
       "    .dataframe tbody tr th {\n",
       "        vertical-align: top;\n",
       "    }\n",
       "\n",
       "    .dataframe thead th {\n",
       "        text-align: right;\n",
       "    }\n",
       "</style>\n",
       "<table border=\"1\" class=\"dataframe\">\n",
       "  <thead>\n",
       "    <tr style=\"text-align: right;\">\n",
       "      <th></th>\n",
       "      <th>artist</th>\n",
       "      <th>date</th>\n",
       "      <th>time</th>\n",
       "    </tr>\n",
       "  </thead>\n",
       "  <tbody>\n",
       "    <tr>\n",
       "      <th>0</th>\n",
       "      <td>Lynyrd Skynyrd</td>\n",
       "      <td>November 13, 2022</td>\n",
       "      <td>7:30 PM CST</td>\n",
       "    </tr>\n",
       "    <tr>\n",
       "      <th>1</th>\n",
       "      <td>Charley Crockett</td>\n",
       "      <td>November 14, 2022</td>\n",
       "      <td>7:30 PM CST</td>\n",
       "    </tr>\n",
       "    <tr>\n",
       "      <th>2</th>\n",
       "      <td>Tauren Wells</td>\n",
       "      <td>November 15, 2022</td>\n",
       "      <td>7:30 PM CST</td>\n",
       "    </tr>\n",
       "    <tr>\n",
       "      <th>3</th>\n",
       "      <td>Sometimes Y</td>\n",
       "      <td>November 17, 2022</td>\n",
       "      <td>7:30 PM CST</td>\n",
       "    </tr>\n",
       "    <tr>\n",
       "      <th>4</th>\n",
       "      <td>Trombone Shorty &amp; Orleans Avenue</td>\n",
       "      <td>November 18, 2022</td>\n",
       "      <td>8:00 PM CST</td>\n",
       "    </tr>\n",
       "    <tr>\n",
       "      <th>5</th>\n",
       "      <td>Dropkick Murphys</td>\n",
       "      <td>November 19, 2022</td>\n",
       "      <td>7:30 PM CST</td>\n",
       "    </tr>\n",
       "    <tr>\n",
       "      <th>6</th>\n",
       "      <td>No Small Endeavor</td>\n",
       "      <td>November 20, 2022</td>\n",
       "      <td>7:30 PM CST</td>\n",
       "    </tr>\n",
       "    <tr>\n",
       "      <th>7</th>\n",
       "      <td>Opry NextStage Live In Concert</td>\n",
       "      <td>November 20, 2022</td>\n",
       "      <td>7:30 PM CST</td>\n",
       "    </tr>\n",
       "    <tr>\n",
       "      <th>8</th>\n",
       "      <td>Christmas 4 Kids</td>\n",
       "      <td>November 21, 2022</td>\n",
       "      <td>7:00 PM CST</td>\n",
       "    </tr>\n",
       "    <tr>\n",
       "      <th>9</th>\n",
       "      <td>Omar Apollo</td>\n",
       "      <td>November 22, 2022</td>\n",
       "      <td>7:30 PM CST</td>\n",
       "    </tr>\n",
       "    <tr>\n",
       "      <th>10</th>\n",
       "      <td>W.A.S.P.</td>\n",
       "      <td>November 23, 2022</td>\n",
       "      <td>7:30 PM CST</td>\n",
       "    </tr>\n",
       "    <tr>\n",
       "      <th>11</th>\n",
       "      <td>Brett Eldredge</td>\n",
       "      <td>November 25, 2022</td>\n",
       "      <td>8:00 PM CST</td>\n",
       "    </tr>\n",
       "    <tr>\n",
       "      <th>12</th>\n",
       "      <td>Brett Eldredge</td>\n",
       "      <td>November 26, 2022</td>\n",
       "      <td>8:00 PM CST</td>\n",
       "    </tr>\n",
       "    <tr>\n",
       "      <th>13</th>\n",
       "      <td>Brett Eldredge</td>\n",
       "      <td>November 27, 2022</td>\n",
       "      <td>8:00 PM CST</td>\n",
       "    </tr>\n",
       "    <tr>\n",
       "      <th>14</th>\n",
       "      <td>Natalie Grant &amp; Danny Gokey</td>\n",
       "      <td>November 28, 2022</td>\n",
       "      <td>7:30 PM CST</td>\n",
       "    </tr>\n",
       "    <tr>\n",
       "      <th>15</th>\n",
       "      <td>A Day To Remember</td>\n",
       "      <td>November 29, 2022</td>\n",
       "      <td>8:00 PM CST</td>\n",
       "    </tr>\n",
       "    <tr>\n",
       "      <th>16</th>\n",
       "      <td>The Piano Guys</td>\n",
       "      <td>November 30, 2022</td>\n",
       "      <td>7:30 PM CST</td>\n",
       "    </tr>\n",
       "    <tr>\n",
       "      <th>17</th>\n",
       "      <td>Jason Bonham’s Led Zeppelin Evening</td>\n",
       "      <td>November 30, 2022</td>\n",
       "      <td>8:00 PM CST</td>\n",
       "    </tr>\n",
       "    <tr>\n",
       "      <th>18</th>\n",
       "      <td>The Mavericks</td>\n",
       "      <td>December 1, 2022</td>\n",
       "      <td>8:00 PM CST</td>\n",
       "    </tr>\n",
       "    <tr>\n",
       "      <th>19</th>\n",
       "      <td>The Mavericks</td>\n",
       "      <td>December 2, 2022</td>\n",
       "      <td>8:00 PM CST</td>\n",
       "    </tr>\n",
       "  </tbody>\n",
       "</table>\n",
       "</div>"
      ],
      "text/plain": [
       "                                 artist               date         time\n",
       "0                        Lynyrd Skynyrd  November 13, 2022  7:30 PM CST\n",
       "1                      Charley Crockett  November 14, 2022  7:30 PM CST\n",
       "2                          Tauren Wells  November 15, 2022  7:30 PM CST\n",
       "3                           Sometimes Y  November 17, 2022  7:30 PM CST\n",
       "4      Trombone Shorty & Orleans Avenue  November 18, 2022  8:00 PM CST\n",
       "5                      Dropkick Murphys  November 19, 2022  7:30 PM CST\n",
       "6                     No Small Endeavor  November 20, 2022  7:30 PM CST\n",
       "7        Opry NextStage Live In Concert  November 20, 2022  7:30 PM CST\n",
       "8                      Christmas 4 Kids  November 21, 2022  7:00 PM CST\n",
       "9                           Omar Apollo  November 22, 2022  7:30 PM CST\n",
       "10                             W.A.S.P.  November 23, 2022  7:30 PM CST\n",
       "11                       Brett Eldredge  November 25, 2022  8:00 PM CST\n",
       "12                       Brett Eldredge  November 26, 2022  8:00 PM CST\n",
       "13                       Brett Eldredge  November 27, 2022  8:00 PM CST\n",
       "14          Natalie Grant & Danny Gokey  November 28, 2022  7:30 PM CST\n",
       "15                    A Day To Remember  November 29, 2022  8:00 PM CST\n",
       "16                       The Piano Guys  November 30, 2022  7:30 PM CST\n",
       "17  Jason Bonham’s Led Zeppelin Evening  November 30, 2022  8:00 PM CST\n",
       "18                        The Mavericks   December 1, 2022  8:00 PM CST\n",
       "19                        The Mavericks   December 2, 2022  8:00 PM CST"
      ]
     },
     "execution_count": 13,
     "metadata": {},
     "output_type": "execute_result"
    }
   ],
   "source": [
    "schedulepg1"
   ]
  }
 ],
 "metadata": {
  "kernelspec": {
   "display_name": "Python 3 (ipykernel)",
   "language": "python",
   "name": "python3"
  },
  "language_info": {
   "codemirror_mode": {
    "name": "ipython",
    "version": 3
   },
   "file_extension": ".py",
   "mimetype": "text/x-python",
   "name": "python",
   "nbconvert_exporter": "python",
   "pygments_lexer": "ipython3",
   "version": "3.9.7"
  }
 },
 "nbformat": 4,
 "nbformat_minor": 5
}
