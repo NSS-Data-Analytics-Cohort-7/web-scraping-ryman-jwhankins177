{
 "cells": [
  {
   "cell_type": "code",
   "execution_count": 1,
   "id": "0c307a9d",
   "metadata": {},
   "outputs": [],
   "source": [
    "import requests\n",
    "from bs4 import BeautifulSoup as bs\n",
    "from IPython.core.display import HTML\n",
    "import pandas as pd\n",
    "\n",
    "URL = 'https://ryman.com/events/'\n",
    "response = requests.get(URL)\n",
    "\n",
    "soup = bs(response.text)\n"
   ]
  },
  {
   "cell_type": "code",
   "execution_count": 2,
   "id": "61f0b3ea",
   "metadata": {
    "scrolled": true
   },
   "outputs": [
    {
     "data": {
      "text/plain": [
       "<Response [200]>"
      ]
     },
     "execution_count": 2,
     "metadata": {},
     "output_type": "execute_result"
    }
   ],
   "source": [
    "type(response)\n",
    "requests.get(URL)"
   ]
  },
  {
   "cell_type": "markdown",
   "id": "d3905cfc",
   "metadata": {},
   "source": [
    "Get list of artists."
   ]
  },
  {
   "cell_type": "code",
   "execution_count": 3,
   "id": "4305d164",
   "metadata": {},
   "outputs": [
    {
     "data": {
      "text/plain": [
       "['Mt. Joy',\n",
       " 'Mt. Joy',\n",
       " 'Ryman Sidewalk Sessions',\n",
       " 'Marcus Mumford',\n",
       " 'Puscifer',\n",
       " 'Gipsy Kings featuring Nicolas Reyes',\n",
       " 'Ryman Sidewalk Sessions',\n",
       " 'Cole Swindell',\n",
       " 'Ryman Sidewalk Sessions',\n",
       " 'Cole Swindell',\n",
       " 'The Lone Bellow',\n",
       " 'We The Kingdom',\n",
       " 'The Revivalists',\n",
       " 'The Revivalists',\n",
       " 'Dayglow',\n",
       " 'Bono: Stories of Surrender',\n",
       " 'Chris Renzema',\n",
       " 'Craig Morgan',\n",
       " 'Louder with Crowder',\n",
       " 'Louder with Crowder']"
      ]
     },
     "execution_count": 3,
     "metadata": {},
     "output_type": "execute_result"
    }
   ],
   "source": [
    "h3 = soup.find_all('a', attrs={'class': 'tribe-event-url'})\n",
    "artists=[]\n",
    "for x in h3:\n",
    "    y = x.text.strip()\n",
    "    artists.append(y)\n",
    "artists"
   ]
  },
  {
   "cell_type": "markdown",
   "id": "49e2e8cb",
   "metadata": {},
   "source": [
    "Get all of 'p' tag as a reference for date and time."
   ]
  },
  {
   "cell_type": "code",
   "execution_count": 4,
   "id": "058fa77a",
   "metadata": {
    "scrolled": true
   },
   "outputs": [
    {
     "data": {
      "text/plain": [
       "[<p><time datetime=\"2022-10-28 08:00:00 CDT\">Friday, October 28, 2022 at 8:00 PM CDT</time></p>,\n",
       " <p><time datetime=\"2022-10-29 08:00:00 CDT\">Saturday, October 29, 2022 at 8:00 PM CDT</time></p>,\n",
       " <p><time datetime=\"2022-10-30 06:00:00 CDT\">Sunday, October 30, 2022 at 6:00 PM CDT</time></p>,\n",
       " <p><time datetime=\"2022-10-30 08:00:00 CDT\">Sunday, October 30, 2022 at 8:00 PM CDT</time></p>,\n",
       " <p><time datetime=\"2022-10-31 07:30:00 CDT\">Monday, October 31, 2022 at 7:30 PM CDT</time></p>,\n",
       " <p><time datetime=\"2022-11-01 07:30:00 CDT\">Tuesday, November 1, 2022 at 7:30 PM CDT</time></p>,\n",
       " <p><time datetime=\"2022-11-02 05:30:00 CDT\">Wednesday, November 2, 2022 at 5:30 PM CDT</time></p>,\n",
       " <p><time datetime=\"2022-11-02 07:30:00 CDT\">Wednesday, November 2, 2022 at 7:30 PM CDT</time></p>,\n",
       " <p><time datetime=\"2022-11-03 05:30:00 CDT\">Thursday, November 3, 2022 at 5:30 PM CDT</time></p>,\n",
       " <p><time datetime=\"2022-11-03 07:30:00 CDT\">Thursday, November 3, 2022 at 7:30 PM CDT</time></p>,\n",
       " <p><time datetime=\"2022-11-04 08:00:00 CDT\">Friday, November 4, 2022 at 8:00 PM CDT</time></p>,\n",
       " <p><time datetime=\"2022-11-05 07:00:00 CDT\">Saturday, November 5, 2022 at 7:00 PM CDT</time></p>,\n",
       " <p><time datetime=\"2022-11-06 07:30:00 CST\">Sunday, November 6, 2022 at 7:30 PM CST</time></p>,\n",
       " <p><time datetime=\"2022-11-07 07:30:00 CST\">Monday, November 7, 2022 at 7:30 PM CST</time></p>,\n",
       " <p><time datetime=\"2022-11-08 07:30:00 CST\">Tuesday, November 8, 2022 at 7:30 PM CST</time></p>,\n",
       " <p><time datetime=\"2022-11-09 08:00:00 CST\">Wednesday, November 9, 2022 at 8:00 PM CST</time></p>,\n",
       " <p><time datetime=\"2022-11-10 07:30:00 CST\">Thursday, November 10, 2022 at 7:30 PM CST</time></p>,\n",
       " <p><time datetime=\"2022-11-11 08:00:00 CST\">Friday, November 11, 2022 at 8:00 PM CST</time></p>,\n",
       " <p><time datetime=\"2022-11-12 07:00:00 CST\">Saturday, November 12, 2022 at 7:00 PM CST</time></p>,\n",
       " <p><time datetime=\"2022-11-12 09:30:00 CST\">Saturday, November 12, 2022 at 9:30 PM CST</time></p>,\n",
       " <p> </p>,\n",
       " <p><a href=\"https://ryman.com/tours/\"><img alt=\"\" class=\"alignnone size-full wp-image-13634\" height=\"151\" src=\"https://ryman.com/wp-content/uploads/sites/9/2022/08/RYM_TOURSCalendarWidget_288x600.jpg\" width=\"288\"/></a></p>,\n",
       " <p>Ryman Auditorium • 116 Rep. John Lewis Way N. Nashville, TN 37219 • (615) 889-3060 © 2022 Ryman Hospitality Properties</p>,\n",
       " <p>Subscribe for updates, events offers and more. To sign up to receive our emails, Fill in the following fields and hit submit. Thanks, and Welcome!<br/>\n",
       " <iframe frameborder=\"0\" height=\"600\" id=\"ryman-form-iframe-pop\" src=\"\" width=\"100%\"></iframe><br/>\n",
       " <script type=\"text/javascript\">\n",
       " jQuery(document).ready(function() {\n",
       "   function SendBrandPreferenceToIframe() {\n",
       "     var parentDomain = window.location.origin;\n",
       "     var parentURL = window.location.href;\n",
       "     var frame = document.getElementById('ryman-form-iframe-pop');\n",
       "     frame.contentWindow.postMessage('Ryman_Preference,Pop Up form,light-mode,'+parentDomain+','+parentURL, 'https://fe3f11727564047d751578.pub.s6.sfmc-content.com');\n",
       "   }\n",
       " document.getElementById(\"ryman-form-iframe-pop\").addEventListener(\"load\", myFunction);\n",
       "   function myFunction() {\n",
       "     setTimeout(SendBrandPreferenceToIframe, 6000);\n",
       "   }\n",
       "   document.getElementById('ryman-form-iframe-pop').src = 'https://fe3f11727564047d751578.pub.s6.sfmc-content.com/t4wk3qm03qr';\n",
       " });\n",
       " </script></p>,\n",
       " <p>Ryman Auditorium uses cookies in order to improve your experience. By continuing to browse this website you are agreeing to its use of cookies.</p>,\n",
       " <p>This website uses cookies so that we can provide you with the best user experience possible. Cookie information is stored in your browser and performs functions such as recognising you when you return to our website and helping our team to understand which sections of the website you find most interesting and useful.</p>,\n",
       " <p>Strictly Necessary Cookie should be enabled at all times so that we can save your preferences for cookie settings.</p>,\n",
       " <p>If you disable this cookie, we will not be able to save your preferences. This means that every time you visit this website you will need to enable or disable cookies again.</p>]"
      ]
     },
     "execution_count": 4,
     "metadata": {},
     "output_type": "execute_result"
    }
   ],
   "source": [
    "h4 = soup.findAll('p')\n",
    "h4"
   ]
  },
  {
   "cell_type": "markdown",
   "id": "593fb77a",
   "metadata": {},
   "source": [
    "Get full date/time data."
   ]
  },
  {
   "cell_type": "code",
   "execution_count": 5,
   "id": "5967b533",
   "metadata": {},
   "outputs": [
    {
     "data": {
      "text/plain": [
       "['Friday, October 28, 2022 at 8:00 PM CDT',\n",
       " 'Saturday, October 29, 2022 at 8:00 PM CDT',\n",
       " 'Sunday, October 30, 2022 at 6:00 PM CDT',\n",
       " 'Sunday, October 30, 2022 at 8:00 PM CDT',\n",
       " 'Monday, October 31, 2022 at 7:30 PM CDT',\n",
       " 'Tuesday, November 1, 2022 at 7:30 PM CDT',\n",
       " 'Wednesday, November 2, 2022 at 5:30 PM CDT',\n",
       " 'Wednesday, November 2, 2022 at 7:30 PM CDT',\n",
       " 'Thursday, November 3, 2022 at 5:30 PM CDT',\n",
       " 'Thursday, November 3, 2022 at 7:30 PM CDT',\n",
       " 'Friday, November 4, 2022 at 8:00 PM CDT',\n",
       " 'Saturday, November 5, 2022 at 7:00 PM CDT',\n",
       " 'Sunday, November 6, 2022 at 7:30 PM CST',\n",
       " 'Monday, November 7, 2022 at 7:30 PM CST',\n",
       " 'Tuesday, November 8, 2022 at 7:30 PM CST',\n",
       " 'Wednesday, November 9, 2022 at 8:00 PM CST',\n",
       " 'Thursday, November 10, 2022 at 7:30 PM CST',\n",
       " 'Friday, November 11, 2022 at 8:00 PM CST',\n",
       " 'Saturday, November 12, 2022 at 7:00 PM CST',\n",
       " 'Saturday, November 12, 2022 at 9:30 PM CST',\n",
       " '',\n",
       " '',\n",
       " 'Ryman Auditorium • 116 Rep. John Lewis Way N. Nashville, TN 37219 • (615) 889-3060 © 2022 Ryman Hospitality Properties',\n",
       " 'Subscribe for updates, events offers and more. To sign up to receive our emails, Fill in the following fields and hit submit. Thanks, and Welcome!',\n",
       " 'Ryman Auditorium uses cookies in order to improve your experience. By continuing to browse this website you are agreeing to its use of cookies.',\n",
       " 'This website uses cookies so that we can provide you with the best user experience possible. Cookie information is stored in your browser and performs functions such as recognising you when you return to our website and helping our team to understand which sections of the website you find most interesting and useful.',\n",
       " 'Strictly Necessary Cookie should be enabled at all times so that we can save your preferences for cookie settings.',\n",
       " 'If you disable this cookie, we will not be able to save your preferences. This means that every time you visit this website you will need to enable or disable cookies again.']"
      ]
     },
     "execution_count": 5,
     "metadata": {},
     "output_type": "execute_result"
    }
   ],
   "source": [
    "h5 = soup.find_all('time', attrs={'class': 'tribe-event-schedule-details'})\n",
    "datetime=[]\n",
    "for x in h4:\n",
    "    y = x.text.strip()\n",
    "    datetime.append(y)\n",
    "datetime"
   ]
  },
  {
   "cell_type": "markdown",
   "id": "31805473",
   "metadata": {},
   "source": [
    "h3 = soup.find_all('a', attrs={'class': 'tribe-event-url'})\n",
    "artists=[]\n",
    "for x in h3:\n",
    "    y = x.text.strip()\n",
    "    artists.append(y)"
   ]
  },
  {
   "cell_type": "code",
   "execution_count": 7,
   "id": "f561f7df",
   "metadata": {},
   "outputs": [
    {
     "data": {
      "text/plain": [
       "['Friday, October 28, 2022 at 8:00 PM CDT',\n",
       " 'Saturday, October 29, 2022 at 8:00 PM CDT',\n",
       " 'Sunday, October 30, 2022 at 6:00 PM CDT',\n",
       " 'Sunday, October 30, 2022 at 8:00 PM CDT',\n",
       " 'Monday, October 31, 2022 at 7:30 PM CDT',\n",
       " 'Tuesday, November 1, 2022 at 7:30 PM CDT',\n",
       " 'Wednesday, November 2, 2022 at 5:30 PM CDT',\n",
       " 'Wednesday, November 2, 2022 at 7:30 PM CDT',\n",
       " 'Thursday, November 3, 2022 at 5:30 PM CDT',\n",
       " 'Thursday, November 3, 2022 at 7:30 PM CDT',\n",
       " 'Friday, November 4, 2022 at 8:00 PM CDT',\n",
       " 'Saturday, November 5, 2022 at 7:00 PM CDT',\n",
       " 'Sunday, November 6, 2022 at 7:30 PM CST',\n",
       " 'Monday, November 7, 2022 at 7:30 PM CST',\n",
       " 'Tuesday, November 8, 2022 at 7:30 PM CST',\n",
       " 'Wednesday, November 9, 2022 at 8:00 PM CST',\n",
       " 'Thursday, November 10, 2022 at 7:30 PM CST',\n",
       " 'Friday, November 11, 2022 at 8:00 PM CST',\n",
       " 'Saturday, November 12, 2022 at 7:00 PM CST',\n",
       " 'Saturday, November 12, 2022 at 9:30 PM CST',\n",
       " '',\n",
       " '',\n",
       " 'Ryman Auditorium • 116 Rep. John Lewis Way N. Nashville, TN 37219 • (615) 889-3060 © 2022 Ryman Hospitality Properties',\n",
       " 'Subscribe for updates, events offers and more. To sign up to receive our emails, Fill in the following fields and hit submit. Thanks, and Welcome!',\n",
       " 'Ryman Auditorium uses cookies in order to improve your experience. By continuing to browse this website you are agreeing to its use of cookies.',\n",
       " 'This website uses cookies so that we can provide you with the best user experience possible. Cookie information is stored in your browser and performs functions such as recognising you when you return to our website and helping our team to understand which sections of the website you find most interesting and useful.',\n",
       " 'Strictly Necessary Cookie should be enabled at all times so that we can save your preferences for cookie settings.',\n",
       " 'If you disable this cookie, we will not be able to save your preferences. This means that every time you visit this website you will need to enable or disable cookies again.']"
      ]
     },
     "execution_count": 7,
     "metadata": {},
     "output_type": "execute_result"
    }
   ],
   "source": [
    "datetime"
   ]
  },
  {
   "cell_type": "markdown",
   "id": "9b1c746c",
   "metadata": {},
   "source": [
    "Clean up and seperate date and time. "
   ]
  },
  {
   "cell_type": "code",
   "execution_count": 8,
   "id": "8688cef0",
   "metadata": {},
   "outputs": [],
   "source": [
    "date1 = [x.split(', ',1)[-1] for x in datetime]"
   ]
  },
  {
   "cell_type": "code",
   "execution_count": 9,
   "id": "8683cddb",
   "metadata": {},
   "outputs": [],
   "source": [
    "date = [x.split(' at ',1)[0] for x in date1]"
   ]
  },
  {
   "cell_type": "code",
   "execution_count": 10,
   "id": "e6127bfe",
   "metadata": {},
   "outputs": [
    {
     "data": {
      "text/plain": [
       "['October 28, 2022',\n",
       " 'October 29, 2022',\n",
       " 'October 30, 2022',\n",
       " 'October 30, 2022',\n",
       " 'October 31, 2022',\n",
       " 'November 1, 2022',\n",
       " 'November 2, 2022',\n",
       " 'November 2, 2022',\n",
       " 'November 3, 2022',\n",
       " 'November 3, 2022',\n",
       " 'November 4, 2022',\n",
       " 'November 5, 2022',\n",
       " 'November 6, 2022',\n",
       " 'November 7, 2022',\n",
       " 'November 8, 2022',\n",
       " 'November 9, 2022',\n",
       " 'November 10, 2022',\n",
       " 'November 11, 2022',\n",
       " 'November 12, 2022',\n",
       " 'November 12, 2022',\n",
       " '',\n",
       " '',\n",
       " 'TN 37219 • (615) 889-3060 © 2022 Ryman Hospitality Properties',\n",
       " 'events offers and more. To sign up to receive our emails, Fill in the following fields and hit submit. Thanks, and Welcome!',\n",
       " 'Ryman Auditorium uses cookies in order to improve your experience. By continuing to browse this website you are agreeing to its use of cookies.',\n",
       " 'This website uses cookies so that we can provide you with the best user experience possible. Cookie information is stored in your browser and performs functions such as recognising you when you return to our website and helping our team to understand which sections of the website you find most interesting and useful.',\n",
       " 'Strictly Necessary Cookie should be enabled',\n",
       " 'we will not be able to save your preferences. This means that every time you visit this website you will need to enable or disable cookies again.']"
      ]
     },
     "execution_count": 10,
     "metadata": {},
     "output_type": "execute_result"
    }
   ],
   "source": [
    "date"
   ]
  },
  {
   "cell_type": "code",
   "execution_count": 11,
   "id": "824080b8",
   "metadata": {},
   "outputs": [],
   "source": [
    "time = [x.split(' at ',1)[-1] for x in datetime]"
   ]
  },
  {
   "cell_type": "code",
   "execution_count": 12,
   "id": "cb69ea55",
   "metadata": {},
   "outputs": [
    {
     "data": {
      "text/plain": [
       "['8:00 PM CDT',\n",
       " '8:00 PM CDT',\n",
       " '6:00 PM CDT',\n",
       " '8:00 PM CDT',\n",
       " '7:30 PM CDT',\n",
       " '7:30 PM CDT',\n",
       " '5:30 PM CDT',\n",
       " '7:30 PM CDT',\n",
       " '5:30 PM CDT',\n",
       " '7:30 PM CDT',\n",
       " '8:00 PM CDT',\n",
       " '7:00 PM CDT',\n",
       " '7:30 PM CST',\n",
       " '7:30 PM CST',\n",
       " '7:30 PM CST',\n",
       " '8:00 PM CST',\n",
       " '7:30 PM CST',\n",
       " '8:00 PM CST',\n",
       " '7:00 PM CST',\n",
       " '9:30 PM CST',\n",
       " '',\n",
       " '',\n",
       " 'Ryman Auditorium • 116 Rep. John Lewis Way N. Nashville, TN 37219 • (615) 889-3060 © 2022 Ryman Hospitality Properties',\n",
       " 'Subscribe for updates, events offers and more. To sign up to receive our emails, Fill in the following fields and hit submit. Thanks, and Welcome!',\n",
       " 'Ryman Auditorium uses cookies in order to improve your experience. By continuing to browse this website you are agreeing to its use of cookies.',\n",
       " 'This website uses cookies so that we can provide you with the best user experience possible. Cookie information is stored in your browser and performs functions such as recognising you when you return to our website and helping our team to understand which sections of the website you find most interesting and useful.',\n",
       " 'all times so that we can save your preferences for cookie settings.',\n",
       " 'If you disable this cookie, we will not be able to save your preferences. This means that every time you visit this website you will need to enable or disable cookies again.']"
      ]
     },
     "execution_count": 12,
     "metadata": {},
     "output_type": "execute_result"
    }
   ],
   "source": [
    "time"
   ]
  },
  {
   "cell_type": "markdown",
   "id": "7b6ebf51",
   "metadata": {},
   "source": [
    "Turn three lists into DataFrames."
   ]
  },
  {
   "cell_type": "code",
   "execution_count": 13,
   "id": "df42a030",
   "metadata": {},
   "outputs": [],
   "source": [
    "artist1 = pd.DataFrame(artists)\n",
    "date1 = pd.DataFrame(date)\n",
    "time1 = pd.DataFrame(time)"
   ]
  },
  {
   "cell_type": "markdown",
   "id": "7824d987",
   "metadata": {},
   "source": [
    "Combine three DF's and clean."
   ]
  },
  {
   "cell_type": "code",
   "execution_count": 18,
   "id": "dc8c095c",
   "metadata": {
    "scrolled": true
   },
   "outputs": [],
   "source": [
    "schedule = pd.concat([artist1,date1,time1], axis=1)"
   ]
  },
  {
   "cell_type": "code",
   "execution_count": 19,
   "id": "45a88800",
   "metadata": {},
   "outputs": [],
   "source": [
    "schedule.columns = ['artist','date','time']"
   ]
  },
  {
   "cell_type": "code",
   "execution_count": 20,
   "id": "73c6f87d",
   "metadata": {},
   "outputs": [],
   "source": [
    "schedulepg1 = schedule[:20]"
   ]
  },
  {
   "cell_type": "markdown",
   "id": "8cbdfd07",
   "metadata": {},
   "source": [
    "Final page one schedule."
   ]
  },
  {
   "cell_type": "code",
   "execution_count": 21,
   "id": "ce1d3c5e",
   "metadata": {
    "scrolled": true
   },
   "outputs": [
    {
     "data": {
      "text/html": [
       "<div>\n",
       "<style scoped>\n",
       "    .dataframe tbody tr th:only-of-type {\n",
       "        vertical-align: middle;\n",
       "    }\n",
       "\n",
       "    .dataframe tbody tr th {\n",
       "        vertical-align: top;\n",
       "    }\n",
       "\n",
       "    .dataframe thead th {\n",
       "        text-align: right;\n",
       "    }\n",
       "</style>\n",
       "<table border=\"1\" class=\"dataframe\">\n",
       "  <thead>\n",
       "    <tr style=\"text-align: right;\">\n",
       "      <th></th>\n",
       "      <th>artist</th>\n",
       "      <th>date</th>\n",
       "      <th>time</th>\n",
       "    </tr>\n",
       "  </thead>\n",
       "  <tbody>\n",
       "    <tr>\n",
       "      <th>0</th>\n",
       "      <td>Mt. Joy</td>\n",
       "      <td>October 28, 2022</td>\n",
       "      <td>8:00 PM CDT</td>\n",
       "    </tr>\n",
       "    <tr>\n",
       "      <th>1</th>\n",
       "      <td>Mt. Joy</td>\n",
       "      <td>October 29, 2022</td>\n",
       "      <td>8:00 PM CDT</td>\n",
       "    </tr>\n",
       "    <tr>\n",
       "      <th>2</th>\n",
       "      <td>Ryman Sidewalk Sessions</td>\n",
       "      <td>October 30, 2022</td>\n",
       "      <td>6:00 PM CDT</td>\n",
       "    </tr>\n",
       "    <tr>\n",
       "      <th>3</th>\n",
       "      <td>Marcus Mumford</td>\n",
       "      <td>October 30, 2022</td>\n",
       "      <td>8:00 PM CDT</td>\n",
       "    </tr>\n",
       "    <tr>\n",
       "      <th>4</th>\n",
       "      <td>Puscifer</td>\n",
       "      <td>October 31, 2022</td>\n",
       "      <td>7:30 PM CDT</td>\n",
       "    </tr>\n",
       "    <tr>\n",
       "      <th>5</th>\n",
       "      <td>Gipsy Kings featuring Nicolas Reyes</td>\n",
       "      <td>November 1, 2022</td>\n",
       "      <td>7:30 PM CDT</td>\n",
       "    </tr>\n",
       "    <tr>\n",
       "      <th>6</th>\n",
       "      <td>Ryman Sidewalk Sessions</td>\n",
       "      <td>November 2, 2022</td>\n",
       "      <td>5:30 PM CDT</td>\n",
       "    </tr>\n",
       "    <tr>\n",
       "      <th>7</th>\n",
       "      <td>Cole Swindell</td>\n",
       "      <td>November 2, 2022</td>\n",
       "      <td>7:30 PM CDT</td>\n",
       "    </tr>\n",
       "    <tr>\n",
       "      <th>8</th>\n",
       "      <td>Ryman Sidewalk Sessions</td>\n",
       "      <td>November 3, 2022</td>\n",
       "      <td>5:30 PM CDT</td>\n",
       "    </tr>\n",
       "    <tr>\n",
       "      <th>9</th>\n",
       "      <td>Cole Swindell</td>\n",
       "      <td>November 3, 2022</td>\n",
       "      <td>7:30 PM CDT</td>\n",
       "    </tr>\n",
       "    <tr>\n",
       "      <th>10</th>\n",
       "      <td>The Lone Bellow</td>\n",
       "      <td>November 4, 2022</td>\n",
       "      <td>8:00 PM CDT</td>\n",
       "    </tr>\n",
       "    <tr>\n",
       "      <th>11</th>\n",
       "      <td>We The Kingdom</td>\n",
       "      <td>November 5, 2022</td>\n",
       "      <td>7:00 PM CDT</td>\n",
       "    </tr>\n",
       "    <tr>\n",
       "      <th>12</th>\n",
       "      <td>The Revivalists</td>\n",
       "      <td>November 6, 2022</td>\n",
       "      <td>7:30 PM CST</td>\n",
       "    </tr>\n",
       "    <tr>\n",
       "      <th>13</th>\n",
       "      <td>The Revivalists</td>\n",
       "      <td>November 7, 2022</td>\n",
       "      <td>7:30 PM CST</td>\n",
       "    </tr>\n",
       "    <tr>\n",
       "      <th>14</th>\n",
       "      <td>Dayglow</td>\n",
       "      <td>November 8, 2022</td>\n",
       "      <td>7:30 PM CST</td>\n",
       "    </tr>\n",
       "    <tr>\n",
       "      <th>15</th>\n",
       "      <td>Bono: Stories of Surrender</td>\n",
       "      <td>November 9, 2022</td>\n",
       "      <td>8:00 PM CST</td>\n",
       "    </tr>\n",
       "    <tr>\n",
       "      <th>16</th>\n",
       "      <td>Chris Renzema</td>\n",
       "      <td>November 10, 2022</td>\n",
       "      <td>7:30 PM CST</td>\n",
       "    </tr>\n",
       "    <tr>\n",
       "      <th>17</th>\n",
       "      <td>Craig Morgan</td>\n",
       "      <td>November 11, 2022</td>\n",
       "      <td>8:00 PM CST</td>\n",
       "    </tr>\n",
       "    <tr>\n",
       "      <th>18</th>\n",
       "      <td>Louder with Crowder</td>\n",
       "      <td>November 12, 2022</td>\n",
       "      <td>7:00 PM CST</td>\n",
       "    </tr>\n",
       "    <tr>\n",
       "      <th>19</th>\n",
       "      <td>Louder with Crowder</td>\n",
       "      <td>November 12, 2022</td>\n",
       "      <td>9:30 PM CST</td>\n",
       "    </tr>\n",
       "  </tbody>\n",
       "</table>\n",
       "</div>"
      ],
      "text/plain": [
       "                                 artist               date         time\n",
       "0                               Mt. Joy   October 28, 2022  8:00 PM CDT\n",
       "1                               Mt. Joy   October 29, 2022  8:00 PM CDT\n",
       "2               Ryman Sidewalk Sessions   October 30, 2022  6:00 PM CDT\n",
       "3                        Marcus Mumford   October 30, 2022  8:00 PM CDT\n",
       "4                              Puscifer   October 31, 2022  7:30 PM CDT\n",
       "5   Gipsy Kings featuring Nicolas Reyes   November 1, 2022  7:30 PM CDT\n",
       "6               Ryman Sidewalk Sessions   November 2, 2022  5:30 PM CDT\n",
       "7                         Cole Swindell   November 2, 2022  7:30 PM CDT\n",
       "8               Ryman Sidewalk Sessions   November 3, 2022  5:30 PM CDT\n",
       "9                         Cole Swindell   November 3, 2022  7:30 PM CDT\n",
       "10                      The Lone Bellow   November 4, 2022  8:00 PM CDT\n",
       "11                       We The Kingdom   November 5, 2022  7:00 PM CDT\n",
       "12                      The Revivalists   November 6, 2022  7:30 PM CST\n",
       "13                      The Revivalists   November 7, 2022  7:30 PM CST\n",
       "14                              Dayglow   November 8, 2022  7:30 PM CST\n",
       "15           Bono: Stories of Surrender   November 9, 2022  8:00 PM CST\n",
       "16                        Chris Renzema  November 10, 2022  7:30 PM CST\n",
       "17                         Craig Morgan  November 11, 2022  8:00 PM CST\n",
       "18                  Louder with Crowder  November 12, 2022  7:00 PM CST\n",
       "19                  Louder with Crowder  November 12, 2022  9:30 PM CST"
      ]
     },
     "execution_count": 21,
     "metadata": {},
     "output_type": "execute_result"
    }
   ],
   "source": [
    "schedulepg1"
   ]
  },
  {
   "cell_type": "markdown",
   "id": "bb827ea3",
   "metadata": {},
   "source": [
    "# Page 2"
   ]
  },
  {
   "cell_type": "markdown",
   "id": "0232387d",
   "metadata": {},
   "source": [
    "Get the same from page two."
   ]
  },
  {
   "cell_type": "code",
   "execution_count": 22,
   "id": "397891f6",
   "metadata": {},
   "outputs": [],
   "source": [
    "URL = 'https://ryman.com/events/list/?tribe_event_display=list&tribe_paged=2'\n",
    "response = requests.get(URL)\n",
    "\n",
    "soup = bs(response.text)"
   ]
  },
  {
   "cell_type": "markdown",
   "id": "e8242e38",
   "metadata": {},
   "source": [
    "Import list of artists."
   ]
  },
  {
   "cell_type": "code",
   "execution_count": 23,
   "id": "a3f6026c",
   "metadata": {},
   "outputs": [],
   "source": [
    "#artists\n",
    "p1 = soup.find_all('a', attrs={'class': 'tribe-event-url'})\n",
    "artistspg2=[]\n",
    "for x in p1:\n",
    "    y = x.text.strip()\n",
    "    artistspg2.append(y)"
   ]
  },
  {
   "cell_type": "code",
   "execution_count": 24,
   "id": "17d94659",
   "metadata": {},
   "outputs": [
    {
     "data": {
      "text/plain": [
       "['Disney Junior Live On Tour',\n",
       " 'Lynyrd Skynyrd',\n",
       " 'Charley Crockett',\n",
       " 'Tauren Wells',\n",
       " 'Sometimes Y',\n",
       " 'Trombone Shorty & Orleans Avenue',\n",
       " 'Dropkick Murphys',\n",
       " 'No Small Endeavor',\n",
       " 'Opry NextStage Live In Concert',\n",
       " 'Christmas 4 Kids',\n",
       " 'Omar Apollo',\n",
       " 'W.A.S.P.',\n",
       " 'Brett Eldredge',\n",
       " 'Brett Eldredge',\n",
       " 'Brett Eldredge',\n",
       " 'Natalie Grant & Danny Gokey',\n",
       " 'A Day To Remember',\n",
       " 'The Piano Guys',\n",
       " 'Jason Bonham’s Led Zeppelin Evening',\n",
       " 'The Mavericks']"
      ]
     },
     "execution_count": 24,
     "metadata": {},
     "output_type": "execute_result"
    }
   ],
   "source": [
    "artistspg2"
   ]
  },
  {
   "cell_type": "markdown",
   "id": "165cd688",
   "metadata": {},
   "source": [
    "Import date and time. Clean and seperate into two tables. "
   ]
  },
  {
   "cell_type": "code",
   "execution_count": 25,
   "id": "fbe9c6f5",
   "metadata": {},
   "outputs": [],
   "source": [
    "#date and time\n",
    "p2 = soup.find_all('time', attrs={'class': 'tribe-event-schedule-details'})\n",
    "datetimepg2=[]\n",
    "for x in h4:\n",
    "    y = x.text.strip()\n",
    "    datetimepg2.append(y)   "
   ]
  },
  {
   "cell_type": "code",
   "execution_count": 26,
   "id": "e2f01b4c",
   "metadata": {},
   "outputs": [],
   "source": [
    "datepg2 = [x.split(', ',1)[-1] for x in datetimepg2]\n",
    "datepg2 = [x.split(' at ',1)[0] for x in datepg2]"
   ]
  },
  {
   "cell_type": "code",
   "execution_count": 27,
   "id": "41d98a67",
   "metadata": {},
   "outputs": [],
   "source": [
    "timepg2 = [x.split(' at ',1)[-1] for x in datetimepg2]"
   ]
  },
  {
   "cell_type": "markdown",
   "id": "f1d452d1",
   "metadata": {},
   "source": [
    "Turn to data frames, combine and clean up."
   ]
  },
  {
   "cell_type": "code",
   "execution_count": 28,
   "id": "dc12f6c0",
   "metadata": {},
   "outputs": [],
   "source": [
    "artistspg2 = pd.DataFrame(artistspg2)\n",
    "datepage2 = pd.DataFrame(datepg2)\n",
    "timepg2 = pd.DataFrame(timepg2)"
   ]
  },
  {
   "cell_type": "code",
   "execution_count": 29,
   "id": "42df0774",
   "metadata": {
    "scrolled": true
   },
   "outputs": [],
   "source": [
    "schedulepg2 = pd.concat([artistspg2,datepage2,timepg2], axis=1)"
   ]
  },
  {
   "cell_type": "code",
   "execution_count": 30,
   "id": "297ebded",
   "metadata": {},
   "outputs": [],
   "source": [
    "schedulepg2.columns = ['artist','date','time']"
   ]
  },
  {
   "cell_type": "code",
   "execution_count": 31,
   "id": "b272415d",
   "metadata": {},
   "outputs": [],
   "source": [
    "schedulepg2 = schedulepg2[:20]"
   ]
  },
  {
   "cell_type": "markdown",
   "id": "920460e7",
   "metadata": {},
   "source": [
    "Final page two schedule."
   ]
  },
  {
   "cell_type": "code",
   "execution_count": 32,
   "id": "512763ca",
   "metadata": {
    "scrolled": true
   },
   "outputs": [
    {
     "data": {
      "text/html": [
       "<div>\n",
       "<style scoped>\n",
       "    .dataframe tbody tr th:only-of-type {\n",
       "        vertical-align: middle;\n",
       "    }\n",
       "\n",
       "    .dataframe tbody tr th {\n",
       "        vertical-align: top;\n",
       "    }\n",
       "\n",
       "    .dataframe thead th {\n",
       "        text-align: right;\n",
       "    }\n",
       "</style>\n",
       "<table border=\"1\" class=\"dataframe\">\n",
       "  <thead>\n",
       "    <tr style=\"text-align: right;\">\n",
       "      <th></th>\n",
       "      <th>artist</th>\n",
       "      <th>date</th>\n",
       "      <th>time</th>\n",
       "    </tr>\n",
       "  </thead>\n",
       "  <tbody>\n",
       "    <tr>\n",
       "      <th>0</th>\n",
       "      <td>Disney Junior Live On Tour</td>\n",
       "      <td>October 28, 2022</td>\n",
       "      <td>8:00 PM CDT</td>\n",
       "    </tr>\n",
       "    <tr>\n",
       "      <th>1</th>\n",
       "      <td>Lynyrd Skynyrd</td>\n",
       "      <td>October 29, 2022</td>\n",
       "      <td>8:00 PM CDT</td>\n",
       "    </tr>\n",
       "    <tr>\n",
       "      <th>2</th>\n",
       "      <td>Charley Crockett</td>\n",
       "      <td>October 30, 2022</td>\n",
       "      <td>6:00 PM CDT</td>\n",
       "    </tr>\n",
       "    <tr>\n",
       "      <th>3</th>\n",
       "      <td>Tauren Wells</td>\n",
       "      <td>October 30, 2022</td>\n",
       "      <td>8:00 PM CDT</td>\n",
       "    </tr>\n",
       "    <tr>\n",
       "      <th>4</th>\n",
       "      <td>Sometimes Y</td>\n",
       "      <td>October 31, 2022</td>\n",
       "      <td>7:30 PM CDT</td>\n",
       "    </tr>\n",
       "    <tr>\n",
       "      <th>5</th>\n",
       "      <td>Trombone Shorty &amp; Orleans Avenue</td>\n",
       "      <td>November 1, 2022</td>\n",
       "      <td>7:30 PM CDT</td>\n",
       "    </tr>\n",
       "    <tr>\n",
       "      <th>6</th>\n",
       "      <td>Dropkick Murphys</td>\n",
       "      <td>November 2, 2022</td>\n",
       "      <td>5:30 PM CDT</td>\n",
       "    </tr>\n",
       "    <tr>\n",
       "      <th>7</th>\n",
       "      <td>No Small Endeavor</td>\n",
       "      <td>November 2, 2022</td>\n",
       "      <td>7:30 PM CDT</td>\n",
       "    </tr>\n",
       "    <tr>\n",
       "      <th>8</th>\n",
       "      <td>Opry NextStage Live In Concert</td>\n",
       "      <td>November 3, 2022</td>\n",
       "      <td>5:30 PM CDT</td>\n",
       "    </tr>\n",
       "    <tr>\n",
       "      <th>9</th>\n",
       "      <td>Christmas 4 Kids</td>\n",
       "      <td>November 3, 2022</td>\n",
       "      <td>7:30 PM CDT</td>\n",
       "    </tr>\n",
       "    <tr>\n",
       "      <th>10</th>\n",
       "      <td>Omar Apollo</td>\n",
       "      <td>November 4, 2022</td>\n",
       "      <td>8:00 PM CDT</td>\n",
       "    </tr>\n",
       "    <tr>\n",
       "      <th>11</th>\n",
       "      <td>W.A.S.P.</td>\n",
       "      <td>November 5, 2022</td>\n",
       "      <td>7:00 PM CDT</td>\n",
       "    </tr>\n",
       "    <tr>\n",
       "      <th>12</th>\n",
       "      <td>Brett Eldredge</td>\n",
       "      <td>November 6, 2022</td>\n",
       "      <td>7:30 PM CST</td>\n",
       "    </tr>\n",
       "    <tr>\n",
       "      <th>13</th>\n",
       "      <td>Brett Eldredge</td>\n",
       "      <td>November 7, 2022</td>\n",
       "      <td>7:30 PM CST</td>\n",
       "    </tr>\n",
       "    <tr>\n",
       "      <th>14</th>\n",
       "      <td>Brett Eldredge</td>\n",
       "      <td>November 8, 2022</td>\n",
       "      <td>7:30 PM CST</td>\n",
       "    </tr>\n",
       "    <tr>\n",
       "      <th>15</th>\n",
       "      <td>Natalie Grant &amp; Danny Gokey</td>\n",
       "      <td>November 9, 2022</td>\n",
       "      <td>8:00 PM CST</td>\n",
       "    </tr>\n",
       "    <tr>\n",
       "      <th>16</th>\n",
       "      <td>A Day To Remember</td>\n",
       "      <td>November 10, 2022</td>\n",
       "      <td>7:30 PM CST</td>\n",
       "    </tr>\n",
       "    <tr>\n",
       "      <th>17</th>\n",
       "      <td>The Piano Guys</td>\n",
       "      <td>November 11, 2022</td>\n",
       "      <td>8:00 PM CST</td>\n",
       "    </tr>\n",
       "    <tr>\n",
       "      <th>18</th>\n",
       "      <td>Jason Bonham’s Led Zeppelin Evening</td>\n",
       "      <td>November 12, 2022</td>\n",
       "      <td>7:00 PM CST</td>\n",
       "    </tr>\n",
       "    <tr>\n",
       "      <th>19</th>\n",
       "      <td>The Mavericks</td>\n",
       "      <td>November 12, 2022</td>\n",
       "      <td>9:30 PM CST</td>\n",
       "    </tr>\n",
       "  </tbody>\n",
       "</table>\n",
       "</div>"
      ],
      "text/plain": [
       "                                 artist               date         time\n",
       "0            Disney Junior Live On Tour   October 28, 2022  8:00 PM CDT\n",
       "1                        Lynyrd Skynyrd   October 29, 2022  8:00 PM CDT\n",
       "2                      Charley Crockett   October 30, 2022  6:00 PM CDT\n",
       "3                          Tauren Wells   October 30, 2022  8:00 PM CDT\n",
       "4                           Sometimes Y   October 31, 2022  7:30 PM CDT\n",
       "5      Trombone Shorty & Orleans Avenue   November 1, 2022  7:30 PM CDT\n",
       "6                      Dropkick Murphys   November 2, 2022  5:30 PM CDT\n",
       "7                     No Small Endeavor   November 2, 2022  7:30 PM CDT\n",
       "8        Opry NextStage Live In Concert   November 3, 2022  5:30 PM CDT\n",
       "9                      Christmas 4 Kids   November 3, 2022  7:30 PM CDT\n",
       "10                          Omar Apollo   November 4, 2022  8:00 PM CDT\n",
       "11                             W.A.S.P.   November 5, 2022  7:00 PM CDT\n",
       "12                       Brett Eldredge   November 6, 2022  7:30 PM CST\n",
       "13                       Brett Eldredge   November 7, 2022  7:30 PM CST\n",
       "14                       Brett Eldredge   November 8, 2022  7:30 PM CST\n",
       "15          Natalie Grant & Danny Gokey   November 9, 2022  8:00 PM CST\n",
       "16                    A Day To Remember  November 10, 2022  7:30 PM CST\n",
       "17                       The Piano Guys  November 11, 2022  8:00 PM CST\n",
       "18  Jason Bonham’s Led Zeppelin Evening  November 12, 2022  7:00 PM CST\n",
       "19                        The Mavericks  November 12, 2022  9:30 PM CST"
      ]
     },
     "execution_count": 32,
     "metadata": {},
     "output_type": "execute_result"
    }
   ],
   "source": [
    "schedulepg2"
   ]
  }
 ],
 "metadata": {
  "kernelspec": {
   "display_name": "Python 3 (ipykernel)",
   "language": "python",
   "name": "python3"
  },
  "language_info": {
   "codemirror_mode": {
    "name": "ipython",
    "version": 3
   },
   "file_extension": ".py",
   "mimetype": "text/x-python",
   "name": "python",
   "nbconvert_exporter": "python",
   "pygments_lexer": "ipython3",
   "version": "3.9.7"
  }
 },
 "nbformat": 4,
 "nbformat_minor": 5
}
