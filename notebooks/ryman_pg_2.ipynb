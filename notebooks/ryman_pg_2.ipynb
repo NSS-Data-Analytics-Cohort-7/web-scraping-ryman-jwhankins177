{
 "cells": [
  {
   "cell_type": "code",
   "execution_count": 1,
   "id": "a1690534",
   "metadata": {},
   "outputs": [],
   "source": [
    "import requests\n",
    "from bs4 import BeautifulSoup as bs\n",
    "from IPython.core.display import HTML\n",
    "import pandas as pd\n",
    "\n",
    "URL = 'https://ryman.com/events/list/?tribe_event_display=list&tribe_paged=2'\n",
    "response = requests.get(URL)\n",
    "\n",
    "soup = bs(response.text)"
   ]
  },
  {
   "cell_type": "code",
   "execution_count": 2,
   "id": "6dbf196e",
   "metadata": {},
   "outputs": [],
   "source": [
    "#artists\n",
    "p1 = soup.find_all('a', attrs={'class': 'tribe-event-url'})\n",
    "artistspg2=[]\n",
    "for x in p1:\n",
    "    y = x.text.strip()\n",
    "    artistspg2.append(y)"
   ]
  },
  {
   "cell_type": "code",
   "execution_count": 3,
   "id": "987ef043",
   "metadata": {},
   "outputs": [
    {
     "data": {
      "text/plain": [
       "['Lynyrd Skynyrd',\n",
       " 'Charley Crockett',\n",
       " 'Tauren Wells',\n",
       " 'Sometimes Y',\n",
       " 'Trombone Shorty & Orleans Avenue',\n",
       " 'Dropkick Murphys',\n",
       " 'No Small Endeavor',\n",
       " 'Opry NextStage Live In Concert',\n",
       " 'Christmas 4 Kids',\n",
       " 'Omar Apollo',\n",
       " 'W.A.S.P.',\n",
       " 'Brett Eldredge',\n",
       " 'Brett Eldredge',\n",
       " 'Brett Eldredge',\n",
       " 'Natalie Grant & Danny Gokey',\n",
       " 'A Day To Remember',\n",
       " 'The Piano Guys',\n",
       " 'Jason Bonham’s Led Zeppelin Evening',\n",
       " 'The Mavericks',\n",
       " 'The Mavericks']"
      ]
     },
     "execution_count": 3,
     "metadata": {},
     "output_type": "execute_result"
    }
   ],
   "source": [
    "artistspg2"
   ]
  },
  {
   "cell_type": "code",
   "execution_count": 4,
   "id": "2474a4b6",
   "metadata": {},
   "outputs": [],
   "source": [
    "#date and time\n",
    "p2 = soup.find_all('time')\n",
    "datetimepg2=[]\n",
    "for x in p2:\n",
    "    y = x.text.strip()\n",
    "    datetimepg2.append(y)"
   ]
  },
  {
   "cell_type": "code",
   "execution_count": 5,
   "id": "f7217be6",
   "metadata": {},
   "outputs": [
    {
     "data": {
      "text/plain": [
       "['Sunday, November 13, 2022 at 7:30 PM CST',\n",
       " 'Monday, November 14, 2022 at 7:30 PM CST',\n",
       " 'Tuesday, November 15, 2022 at 7:30 PM CST',\n",
       " 'Thursday, November 17, 2022 at 7:30 PM CST',\n",
       " 'Friday, November 18, 2022 at 8:00 PM CST',\n",
       " 'Saturday, November 19, 2022 at 7:30 PM CST',\n",
       " 'Sunday, November 20, 2022 at 7:30 PM CST',\n",
       " 'Sunday, November 20, 2022 at 7:30 PM CST',\n",
       " 'Monday, November 21, 2022 at 7:00 PM CST',\n",
       " 'Tuesday, November 22, 2022 at 7:30 PM CST',\n",
       " 'Wednesday, November 23, 2022 at 7:30 PM CST',\n",
       " 'Friday, November 25, 2022 at 8:00 PM CST',\n",
       " 'Saturday, November 26, 2022 at 8:00 PM CST',\n",
       " 'Sunday, November 27, 2022 at 8:00 PM CST',\n",
       " 'Monday, November 28, 2022 at 7:30 PM CST',\n",
       " 'Tuesday, November 29, 2022 at 8:00 PM CST',\n",
       " 'Wednesday, November 30, 2022 at 7:30 PM CST',\n",
       " 'Wednesday, November 30, 2022 at 8:00 PM CST',\n",
       " 'Thursday, December 1, 2022 at 8:00 PM CST',\n",
       " 'Friday, December 2, 2022 at 8:00 PM CST']"
      ]
     },
     "execution_count": 5,
     "metadata": {},
     "output_type": "execute_result"
    }
   ],
   "source": [
    "datetimepg2"
   ]
  },
  {
   "cell_type": "code",
   "execution_count": 6,
   "id": "2575ad70",
   "metadata": {},
   "outputs": [],
   "source": [
    "datepg2 = [x.split(', ',1)[-1] for x in datetimepg2]\n",
    "datepg2 = [x.split(' at ',1)[0] for x in datepg2]"
   ]
  },
  {
   "cell_type": "code",
   "execution_count": 7,
   "id": "2e5553fd",
   "metadata": {},
   "outputs": [],
   "source": [
    "timepg2 = [x.split(' at ',1)[-1] for x in datetimepg2]"
   ]
  },
  {
   "cell_type": "code",
   "execution_count": 8,
   "id": "8b810fee",
   "metadata": {},
   "outputs": [],
   "source": [
    "artistspg2 = pd.DataFrame(artistspg2)\n",
    "datepg2 = pd.DataFrame(datepg2)\n",
    "timepg2 = pd.DataFrame(timepg2)"
   ]
  },
  {
   "cell_type": "code",
   "execution_count": 9,
   "id": "5564972a",
   "metadata": {},
   "outputs": [],
   "source": [
    "schedulepg2 = pd.concat([artistspg2,datepg2,timepg2], axis=1)"
   ]
  },
  {
   "cell_type": "code",
   "execution_count": 13,
   "id": "127e639a",
   "metadata": {
    "scrolled": true
   },
   "outputs": [],
   "source": [
    "schedulepg2.columns = ['artist','date','time']"
   ]
  },
  {
   "cell_type": "code",
   "execution_count": 14,
   "id": "afb18c35",
   "metadata": {},
   "outputs": [],
   "source": [
    "schedulepg2 = schedulepg2[:20]"
   ]
  },
  {
   "cell_type": "code",
   "execution_count": 15,
   "id": "43d6c0c3",
   "metadata": {},
   "outputs": [
    {
     "data": {
      "text/html": [
       "<div>\n",
       "<style scoped>\n",
       "    .dataframe tbody tr th:only-of-type {\n",
       "        vertical-align: middle;\n",
       "    }\n",
       "\n",
       "    .dataframe tbody tr th {\n",
       "        vertical-align: top;\n",
       "    }\n",
       "\n",
       "    .dataframe thead th {\n",
       "        text-align: right;\n",
       "    }\n",
       "</style>\n",
       "<table border=\"1\" class=\"dataframe\">\n",
       "  <thead>\n",
       "    <tr style=\"text-align: right;\">\n",
       "      <th></th>\n",
       "      <th>artist</th>\n",
       "      <th>date</th>\n",
       "      <th>time</th>\n",
       "    </tr>\n",
       "  </thead>\n",
       "  <tbody>\n",
       "    <tr>\n",
       "      <th>0</th>\n",
       "      <td>Lynyrd Skynyrd</td>\n",
       "      <td>November 13, 2022</td>\n",
       "      <td>7:30 PM CST</td>\n",
       "    </tr>\n",
       "    <tr>\n",
       "      <th>1</th>\n",
       "      <td>Charley Crockett</td>\n",
       "      <td>November 14, 2022</td>\n",
       "      <td>7:30 PM CST</td>\n",
       "    </tr>\n",
       "    <tr>\n",
       "      <th>2</th>\n",
       "      <td>Tauren Wells</td>\n",
       "      <td>November 15, 2022</td>\n",
       "      <td>7:30 PM CST</td>\n",
       "    </tr>\n",
       "    <tr>\n",
       "      <th>3</th>\n",
       "      <td>Sometimes Y</td>\n",
       "      <td>November 17, 2022</td>\n",
       "      <td>7:30 PM CST</td>\n",
       "    </tr>\n",
       "    <tr>\n",
       "      <th>4</th>\n",
       "      <td>Trombone Shorty &amp; Orleans Avenue</td>\n",
       "      <td>November 18, 2022</td>\n",
       "      <td>8:00 PM CST</td>\n",
       "    </tr>\n",
       "    <tr>\n",
       "      <th>5</th>\n",
       "      <td>Dropkick Murphys</td>\n",
       "      <td>November 19, 2022</td>\n",
       "      <td>7:30 PM CST</td>\n",
       "    </tr>\n",
       "    <tr>\n",
       "      <th>6</th>\n",
       "      <td>No Small Endeavor</td>\n",
       "      <td>November 20, 2022</td>\n",
       "      <td>7:30 PM CST</td>\n",
       "    </tr>\n",
       "    <tr>\n",
       "      <th>7</th>\n",
       "      <td>Opry NextStage Live In Concert</td>\n",
       "      <td>November 20, 2022</td>\n",
       "      <td>7:30 PM CST</td>\n",
       "    </tr>\n",
       "    <tr>\n",
       "      <th>8</th>\n",
       "      <td>Christmas 4 Kids</td>\n",
       "      <td>November 21, 2022</td>\n",
       "      <td>7:00 PM CST</td>\n",
       "    </tr>\n",
       "    <tr>\n",
       "      <th>9</th>\n",
       "      <td>Omar Apollo</td>\n",
       "      <td>November 22, 2022</td>\n",
       "      <td>7:30 PM CST</td>\n",
       "    </tr>\n",
       "    <tr>\n",
       "      <th>10</th>\n",
       "      <td>W.A.S.P.</td>\n",
       "      <td>November 23, 2022</td>\n",
       "      <td>7:30 PM CST</td>\n",
       "    </tr>\n",
       "    <tr>\n",
       "      <th>11</th>\n",
       "      <td>Brett Eldredge</td>\n",
       "      <td>November 25, 2022</td>\n",
       "      <td>8:00 PM CST</td>\n",
       "    </tr>\n",
       "    <tr>\n",
       "      <th>12</th>\n",
       "      <td>Brett Eldredge</td>\n",
       "      <td>November 26, 2022</td>\n",
       "      <td>8:00 PM CST</td>\n",
       "    </tr>\n",
       "    <tr>\n",
       "      <th>13</th>\n",
       "      <td>Brett Eldredge</td>\n",
       "      <td>November 27, 2022</td>\n",
       "      <td>8:00 PM CST</td>\n",
       "    </tr>\n",
       "    <tr>\n",
       "      <th>14</th>\n",
       "      <td>Natalie Grant &amp; Danny Gokey</td>\n",
       "      <td>November 28, 2022</td>\n",
       "      <td>7:30 PM CST</td>\n",
       "    </tr>\n",
       "    <tr>\n",
       "      <th>15</th>\n",
       "      <td>A Day To Remember</td>\n",
       "      <td>November 29, 2022</td>\n",
       "      <td>8:00 PM CST</td>\n",
       "    </tr>\n",
       "    <tr>\n",
       "      <th>16</th>\n",
       "      <td>The Piano Guys</td>\n",
       "      <td>November 30, 2022</td>\n",
       "      <td>7:30 PM CST</td>\n",
       "    </tr>\n",
       "    <tr>\n",
       "      <th>17</th>\n",
       "      <td>Jason Bonham’s Led Zeppelin Evening</td>\n",
       "      <td>November 30, 2022</td>\n",
       "      <td>8:00 PM CST</td>\n",
       "    </tr>\n",
       "    <tr>\n",
       "      <th>18</th>\n",
       "      <td>The Mavericks</td>\n",
       "      <td>December 1, 2022</td>\n",
       "      <td>8:00 PM CST</td>\n",
       "    </tr>\n",
       "    <tr>\n",
       "      <th>19</th>\n",
       "      <td>The Mavericks</td>\n",
       "      <td>December 2, 2022</td>\n",
       "      <td>8:00 PM CST</td>\n",
       "    </tr>\n",
       "  </tbody>\n",
       "</table>\n",
       "</div>"
      ],
      "text/plain": [
       "                                 artist               date         time\n",
       "0                        Lynyrd Skynyrd  November 13, 2022  7:30 PM CST\n",
       "1                      Charley Crockett  November 14, 2022  7:30 PM CST\n",
       "2                          Tauren Wells  November 15, 2022  7:30 PM CST\n",
       "3                           Sometimes Y  November 17, 2022  7:30 PM CST\n",
       "4      Trombone Shorty & Orleans Avenue  November 18, 2022  8:00 PM CST\n",
       "5                      Dropkick Murphys  November 19, 2022  7:30 PM CST\n",
       "6                     No Small Endeavor  November 20, 2022  7:30 PM CST\n",
       "7        Opry NextStage Live In Concert  November 20, 2022  7:30 PM CST\n",
       "8                      Christmas 4 Kids  November 21, 2022  7:00 PM CST\n",
       "9                           Omar Apollo  November 22, 2022  7:30 PM CST\n",
       "10                             W.A.S.P.  November 23, 2022  7:30 PM CST\n",
       "11                       Brett Eldredge  November 25, 2022  8:00 PM CST\n",
       "12                       Brett Eldredge  November 26, 2022  8:00 PM CST\n",
       "13                       Brett Eldredge  November 27, 2022  8:00 PM CST\n",
       "14          Natalie Grant & Danny Gokey  November 28, 2022  7:30 PM CST\n",
       "15                    A Day To Remember  November 29, 2022  8:00 PM CST\n",
       "16                       The Piano Guys  November 30, 2022  7:30 PM CST\n",
       "17  Jason Bonham’s Led Zeppelin Evening  November 30, 2022  8:00 PM CST\n",
       "18                        The Mavericks   December 1, 2022  8:00 PM CST\n",
       "19                        The Mavericks   December 2, 2022  8:00 PM CST"
      ]
     },
     "execution_count": 15,
     "metadata": {},
     "output_type": "execute_result"
    }
   ],
   "source": [
    "schedulepg2"
   ]
  }
 ],
 "metadata": {
  "kernelspec": {
   "display_name": "Python 3 (ipykernel)",
   "language": "python",
   "name": "python3"
  },
  "language_info": {
   "codemirror_mode": {
    "name": "ipython",
    "version": 3
   },
   "file_extension": ".py",
   "mimetype": "text/x-python",
   "name": "python",
   "nbconvert_exporter": "python",
   "pygments_lexer": "ipython3",
   "version": "3.9.7"
  }
 },
 "nbformat": 4,
 "nbformat_minor": 5
}
