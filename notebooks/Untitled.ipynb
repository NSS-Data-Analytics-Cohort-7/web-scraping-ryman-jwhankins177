{
 "cells": [
  {
   "cell_type": "code",
   "execution_count": 1,
   "id": "4e59e1a4",
   "metadata": {},
   "outputs": [],
   "source": [
    "import requests\n",
    "from bs4 import BeautifulSoup as bs\n",
    "from IPython.core.display import HTML\n",
    "import pandas as pd\n",
    "\n",
    "URL = 'https://ryman.com/events/'\n",
    "response = requests.get(URL)\n",
    "\n",
    "soup = bs(response.text)"
   ]
  },
  {
   "cell_type": "code",
   "execution_count": null,
   "id": "d66aa319",
   "metadata": {},
   "outputs": [],
   "source": [
    "page = 1\n",
    "tdmulti1 = []\n",
    "while page != 6:\n",
    "    url = f\"https://ryman.com/events/list/?tribe_event_display=list&tribe_paged={page}\"\n",
    "    response = requests.get(url)\n",
    "    html = response.content\n",
    "    soup = bs(html, \"lxml\")\n",
    "    h7 = soup.findAll('p')\n",
    "    for x in h7:\n",
    "        z = x.text.strip()\n",
    "        tdmulti1.append(z)\n",
    "tdmulti1"
   ]
  }
 ],
 "metadata": {
  "kernelspec": {
   "display_name": "Python 3 (ipykernel)",
   "language": "python",
   "name": "python3"
  },
  "language_info": {
   "codemirror_mode": {
    "name": "ipython",
    "version": 3
   },
   "file_extension": ".py",
   "mimetype": "text/x-python",
   "name": "python",
   "nbconvert_exporter": "python",
   "pygments_lexer": "ipython3",
   "version": "3.9.7"
  }
 },
 "nbformat": 4,
 "nbformat_minor": 5
}
